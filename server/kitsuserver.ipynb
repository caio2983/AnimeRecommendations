{
 "cells": [
  {
   "cell_type": "code",
   "execution_count": 1,
   "id": "52a2a23f-9bf3-4e91-a562-0bb1b967eaba",
   "metadata": {},
   "outputs": [],
   "source": [
    "from fastapi.middleware.cors import CORSMiddleware\n",
    "from fastapi import FastAPI, Request\n",
    "import requests\n",
    "\n",
    "%run ../knn/kitsuknn.ipynb\n"
   ]
  },
  {
   "cell_type": "code",
   "execution_count": null,
   "id": "1f84a93b-843b-4b5a-a9cd-30504ce8ce71",
   "metadata": {},
   "outputs": [
    {
     "name": "stderr",
     "output_type": "stream",
     "text": [
      "INFO:     Started server process [19576]\n",
      "INFO:     Waiting for application startup.\n",
      "INFO:     Application startup complete.\n",
      "INFO:     Uvicorn running on http://0.0.0.0:8000 (Press CTRL+C to quit)\n"
     ]
    },
    {
     "name": "stdout",
     "output_type": "stream",
     "text": [
      "INFO:     127.0.0.1:50107 - \"OPTIONS /recommend HTTP/1.1\" 200 OK\n",
      "bounty-hunter\n",
      "Found the amount of animes 33\n",
      "RESULTS ANIMES [['1', '2', '7726', '11170', '16', '44226', '2180', '7722', '130', '1060', '198', '967', '4188', '3662', '4330', '388', '1317', '49', '396', '1829'], [5.88418203051333e-15, 0.5112030799146194, 0.920113529075189, 0.9327378995421041, 0.9337713970280841, 0.9359120988383216, 0.9362092230508692, 0.9368324018923898, 0.9370066392775508, 0.9370329827573092, 0.9380337113336495, 0.9385695717690746, 0.9587554281200329, 0.9592399425661382, 0.9596656747567988, 0.9601756133092685, 0.9643068538695441, 0.9647040257463092, 0.9655017137293509, 0.9657755484887341]]\n",
      "INFO:     127.0.0.1:50107 - \"POST /recommend HTTP/1.1\" 200 OK\n"
     ]
    }
   ],
   "source": [
    "import uvicorn\n",
    "import nest_asyncio\n",
    "from pydantic import BaseModel\n",
    "import pandas as pd\n",
    "from fastapi.encoders import jsonable_encoder\n",
    "\n",
    "app = FastAPI()\n",
    "\n",
    "\n",
    "nest_asyncio.apply()\n",
    "\n",
    "\n",
    "\n",
    "class Base(BaseModel):\n",
    "    id: int\n",
    "\n",
    "# Searches for the anime's category, calls the model\n",
    "@app.post(\"/recommend\")\n",
    "def recommend(body: Base):\n",
    "\n",
    "    r = requests.get(f'https://kitsu.io/api/edge/anime/{body.id}/categories')\n",
    "    data = r.json()\n",
    "    categories = []\n",
    "    for category in data[\"data\"][:3]:\n",
    "        categories.append({'slug' : category[\"attributes\"][\"slug\"],\n",
    "            'title' :category[\"attributes\"][\"title\"]})\n",
    "        \n",
    "    animes = []\n",
    "\n",
    "    print(categories[0][\"slug\"])\n",
    "\n",
    "    \n",
    "    animess_0 = get_all_animes_per_categorie(categories[0][\"slug\"])\n",
    "    # animess_1 = get_all_animes_per_categorie(categories[1][\"slug\"])\n",
    "    # animess_2 = get_all_animes_per_categorie(categories[2][\"slug\"])\n",
    "    animes = animes + animess_0 \n",
    "\n",
    "    df = create_df(animes)\n",
    "\n",
    "    results = knn_model(df)\n",
    "\n",
    "\n",
    "    # results['animes'] = [row.to_dict() for row in results['animes']]\n",
    "\n",
    "    print('RESULTS ANIMES',results)\n",
    "\n",
    "        \n",
    "    return results\n",
    "\n",
    "if __name__ == \"__main__\":\n",
    "\n",
    "    app.add_middleware(\n",
    "        CORSMiddleware,\n",
    "        allow_origins=[\"*\"],  \n",
    "        allow_credentials=True,\n",
    "        allow_methods=[\"*\"],\n",
    "        allow_headers=[\"*\"], \n",
    "    )\n",
    "\n",
    "    \n",
    "    uvicorn.run(app, host=\"0.0.0.0\", port=8000)"
   ]
  }
 ],
 "metadata": {
  "kernelspec": {
   "display_name": "Python 3 (ipykernel)",
   "language": "python",
   "name": "python3"
  },
  "language_info": {
   "codemirror_mode": {
    "name": "ipython",
    "version": 3
   },
   "file_extension": ".py",
   "mimetype": "text/x-python",
   "name": "python",
   "nbconvert_exporter": "python",
   "pygments_lexer": "ipython3",
   "version": "3.11.9"
  }
 },
 "nbformat": 4,
 "nbformat_minor": 5
}
